{
 "cells": [
  {
   "cell_type": "code",
   "execution_count": null,
   "metadata": {},
   "outputs": [],
   "source": [
    "import numpy as np\n",
    "import pandas as pd\n",
    "from sklearn.model_selection import train_test_split\n",
    "import torch.nn as nn\n",
    "import torch\n",
    "import matplotlib.pyplot as plt\n"
   ]
  },
  {
   "cell_type": "code",
   "execution_count": null,
   "metadata": {},
   "outputs": [],
   "source": [
    "data = pd.read_csv('dataset.csv',header=None,names=['A','B','label'])\n",
    "data = data.sample(frac=1).reset_index(drop=True)\n",
    "train_data, test_data = train_test_split(data, test_size=0.1)\n",
    "\n",
    "X_train = train_data[['A','B']].values;\n",
    "Y_train = train_data['label'].values;\n",
    "X_test = test_data[['A','B']].values;\n",
    "Y_test = test_data['label'].values;\n"
   ]
  },
  {
   "cell_type": "code",
   "execution_count": null,
   "metadata": {},
   "outputs": [],
   "source": [
    "plt.figure(figsize=(8, 6))\n",
    "\n",
    "for label in train_data['label'].unique():\n",
    "    subset = train_data[train_data['label'] == label]\n",
    "    plt.scatter(\n",
    "        subset['A'],\n",
    "        subset['B'],\n",
    "        label=f\"Label {label}\",\n",
    "    )\n",
    "plt.xlabel(\"Feature A\", fontsize=12)\n",
    "plt.ylabel(\"Feature B\", fontsize=12)\n",
    "plt.legend(title=\"Labels\")\n",
    "plt.grid(alpha=0.5)\n",
    "plt.show()"
   ]
  },
  {
   "cell_type": "code",
   "execution_count": null,
   "metadata": {},
   "outputs": [],
   "source": [
    "\n",
    "class FeedForwardNN(nn.Module):\n",
    "    def __init__(self, N_fc1, N_fc2):\n",
    "        super(FeedForwardNN, self).__init__()\n",
    "        self.fc1 = nn.Linear(2, N_fc1)\n",
    "        self.fc2 = nn.Linear(N_fc1, N_fc2)\n",
    "        self.fc3 = nn.Linear(N_fc2, 1)\n",
    "        \n",
    "        self.relu = nn.ReLU()\n",
    "        # self.relu = nn.Softmax()\n",
    "        # self.relu = nn.LeakyReLU()\n",
    "        \n",
    "        self.sigmoid = nn.Sigmoid()\n",
    "\n",
    "    def forward(self, x):\n",
    "        x = self.relu(self.fc1(x))\n",
    "        x = self.relu(self.fc2(x))\n",
    "        x = self.sigmoid(self.fc3(x))\n",
    "        return x\n",
    "    \n",
    "Neurons = [(16, 16), (32, 64), (64, 64), (64, 128), (128, 128)]\n",
    "\n",
    "N_fc1, N_fc2 = Neurons[0]\n",
    "\n"
   ]
  },
  {
   "cell_type": "code",
   "execution_count": null,
   "metadata": {},
   "outputs": [],
   "source": [
    "model = FeedForwardNN(N_fc1, N_fc2)\n",
    "criterion = nn.BCELoss()\n",
    "optimizer = torch.optim.Adam(model.parameters(), lr=0.001)\n",
    "# 定义训练循环\n",
    "epochs = 100  # 训练的轮次\n",
    "for epoch in range(epochs):\n",
    "    model.train()  # 模型切换到训练模式\n",
    "    optimizer.zero_grad()  # 清空梯度\n",
    "\n",
    "    # 前向传播\n",
    "    outputs = model(X_train)\n",
    "    loss = criterion(outputs, Y_train)  # 计算损失\n",
    "\n",
    "# 反向传播和优化\n",
    "    loss.backward()  # 反向传播\n",
    "    optimizer.step()  # 更新权重\n",
    "\n",
    "# 打印每 10 个 epoch 的损失\n",
    "    if (epoch + 1) % 10 == 0:\n",
    "        print(f\"Epoch [{epoch + 1}/{epochs}], Loss: {loss.item():.4f}\")\n"
   ]
  },
  {
   "cell_type": "code",
   "execution_count": null,
   "metadata": {},
   "outputs": [],
   "source": [
    "# 测试模型\n",
    "model.eval()  # 切换到评估模式\n",
    "with torch.no_grad():  # 禁用梯度计算\n",
    "    y_pred = model(X_test)\n",
    "    y_pred_classes = (y_pred >= 0.5).float()  # 将输出转换为 0 或 1\n",
    "\n",
    "# 计算准确率\n",
    "accuracy = torch.accuracy_score(Y_test, y_pred_classes.numpy())\n",
    "print(f\"Test Accuracy: {accuracy:.4f}\")"
   ]
  }
 ],
 "metadata": {
  "language_info": {
   "name": "python"
  }
 },
 "nbformat": 4,
 "nbformat_minor": 2
}
